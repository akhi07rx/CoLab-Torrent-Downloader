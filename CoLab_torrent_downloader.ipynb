{
  "cells": [
    {
      "attachments": {},
      "cell_type": "markdown",
      "metadata": {
        "colab_type": "text",
        "id": "view-in-github"
      },
      "source": [
        "<a href=\"https://colab.research.google.com/github/akhi07rx/CoLab-torrent-downloader/blob/main/CoLab_torrent_downloader.ipynb\" target=\"_parent\"><img src=\"https://colab.research.google.com/assets/colab-badge.svg\" alt=\"Open In Colab\"/></a>"
      ]
    },
    {
      "cell_type": "code",
      "execution_count": null,
      "metadata": {
        "id": "JmIzGpgx1joG"
      },
      "outputs": [],
      "source": [
        "!apt install python3-libtorrent"
      ]
    },
    {
      "cell_type": "code",
      "execution_count": null,
      "metadata": {
        "id": "nGRH0f4FA0QL"
      },
      "outputs": [],
      "source": [
        "!python -m pip install --upgrade pip setuptools wheel\n",
        "!python -m pip install lbry-libtorrent"
      ]
    },
    {
      "cell_type": "code",
      "execution_count": null,
      "metadata": {
        "id": "3ru5bl7X1Te9"
      },
      "outputs": [],
      "source": [
        "import libtorrent as lt\n",
        "import time\n",
        "from google.colab import drive\n",
        "from tqdm import tqdm\n",
        "\n",
        "drive.mount('/content/drive')\n",
        "\n",
        "ses = lt.session()\n",
        "ses.listen_on(6881, 6891)\n",
        "\n",
        "save_path = '/content/drive/MyDrive/Torrent Downloads/'\n",
        "\n",
        "params = {\n",
        "    'save_path': save_path,\n",
        "    'storage_mode': lt.storage_mode_t.storage_mode_sparse,\n",
        "}\n",
        "\n",
        "while True:\n",
        "    print()\n",
        "    link = input(\"Enter the magnet link (or 'exit' to quit): \")\n",
        "    if link.lower() == 'exit':\n",
        "        break\n",
        "\n",
        "    if not re.match(magnet_link_pattern, link):\n",
        "        print(\"Invalid magnet link. Please try again.\")\n",
        "        continue\n",
        "\n",
        "    handle = lt.add_magnet_uri(ses, link, params)\n",
        "\n",
        "    print(\"\\nDownloading Metadata...\")\n",
        "    while not handle.has_metadata():\n",
        "        time.sleep(1)\n",
        "    print(\"Got Metadata, Starting Torrent Download...\")\n",
        "\n",
        "    torrent_info = handle.get_torrent_info()\n",
        "    file_size = torrent_info.total_size()\n",
        "    file_size_mb = file_size / (1024 ** 2)\n",
        "    file_size_gb = file_size / (1024 ** 3)\n",
        "    file_size_str = f\"{file_size_mb:.2f} MB / {file_size_gb:.2f} GB\"\n",
        "    print(f\"File size: {file_size_str}\")\n",
        "\n",
        "    progress_bar = tqdm(total=file_size, unit='B', unit_scale=True, leave=True)\n",
        "\n",
        "    start_time = time.time()\n",
        "\n",
        "    while handle.status().state != lt.torrent_status.seeding:\n",
        "        s = handle.status()\n",
        "        state_str = ['queued', 'checking', 'downloading metadata', 'downloading', 'finished', 'seeding', 'allocating']\n",
        "        progress_bar.set_description(state_str[s.state])\n",
        "        progress_bar.update(s.total_done - progress_bar.n)\n",
        "        time.sleep(1)\n",
        "\n",
        "    progress_bar.close()\n",
        "\n",
        "    end_time = time.time()\n",
        "    total_time_seconds = end_time - start_time\n",
        "    total_time_minutes = total_time_seconds / 60\n",
        "\n",
        "    num_files = torrent_info.num_files()\n",
        "\n",
        "    print(f\"\\nFile name: {torrent_info.name()}\")\n",
        "    print(f\"File size: {file_size_str}\")\n",
        "    print(f\"Total Time: {total_time_seconds:.2f} seconds / {total_time_minutes:.2f} minutes\")\n",
        "    print(f\"Number of files: {num_files}\")\n",
        "    print(f\"Saved location: {save_path}\")\n"
      ]
    }
  ],
  "metadata": {
    "colab": {
      "include_colab_link": true,
      "provenance": []
    },
    "kernelspec": {
      "display_name": "Python 3",
      "name": "python3"
    },
    "language_info": {
      "name": "python"
    }
  },
  "nbformat": 4,
  "nbformat_minor": 0
}
