{
  "nbformat": 4,
  "nbformat_minor": 0,
  "metadata": {
    "colab": {
      "provenance": [],
      "include_colab_link": true
    },
    "kernelspec": {
      "name": "python3",
      "display_name": "Python 3"
    },
    "language_info": {
      "name": "python"
    }
  },
  "cells": [
    {
      "cell_type": "markdown",
      "metadata": {
        "id": "view-in-github",
        "colab_type": "text"
      },
      "source": [
        "<a href=\"https://colab.research.google.com/github/akhi07rx/CoLab-torrent-downloader/blob/main/CoLab_torrent_downloader.ipynb\" target=\"_parent\"><img src=\"https://colab.research.google.com/assets/colab-badge.svg\" alt=\"Open In Colab\"/></a>"
      ]
    },
    {
      "cell_type": "code",
      "source": [
        "!apt install python3-libtorrent"
      ],
      "metadata": {
        "id": "JmIzGpgx1joG"
      },
      "execution_count": null,
      "outputs": []
    },
    {
      "cell_type": "code",
      "source": [
        "!python -m pip install --upgrade pip setuptools wheel\n",
        "!python -m pip install lbry-libtorrent"
      ],
      "metadata": {
        "id": "nGRH0f4FA0QL"
      },
      "execution_count": null,
      "outputs": []
    },
    {
      "cell_type": "code",
      "execution_count": null,
      "metadata": {
        "id": "3ru5bl7X1Te9"
      },
      "outputs": [],
      "source": [
        "import libtorrent as lt\n",
        "import time\n",
        "from google.colab import drive\n",
        "\n",
        "drive.mount('/content/drive')\n",
        "\n",
        "ses = lt.session()\n",
        "ses.listen_on(6881, 6891)\n",
        "\n",
        "params = {\n",
        "    'save_path': '/content/drive/MyDrive/Downloads/',\n",
        "    'storage_mode': lt.storage_mode_t.storage_mode_sparse,\n",
        "}\n",
        "link = \"Input Link\"\n",
        "handle = lt.add_magnet_uri(ses, link, params)\n",
        "\n",
        "print(\"Downloading Metadata...\")\n",
        "while not handle.has_metadata():\n",
        "    time.sleep(1)\n",
        "print(\"Got Metadata, Starting Torrent Download...\")\n",
        "\n",
        "while handle.status().state != lt.torrent_status.seeding:\n",
        "    s = handle.status()\n",
        "    state_str = ['queued', 'checking', 'downloading metadata', 'downloading', 'finished', 'seeding', 'allocating']\n",
        "    print(f\"\\r{state_str[s.state]} {s.download_rate / 1000:.2f} kB/s {s.total_download / (1024 * 1024):.2f} MB\", end=' ')\n",
        "    time.sleep(5)\n"
      ]
    }
  ]
}